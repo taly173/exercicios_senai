{
 "cells": [
  {
   "cell_type": "markdown",
   "id": "7557c3b4",
   "metadata": {
    "id": "7557c3b4"
   },
   "source": [
    "### 📝 Aula Prática: Dominando o Loop for em Python.\n",
    "\n",
    "✨ Objetivo: Entender o que é, como funciona e quando usar o loop for com muita prática!"
   ]
  },
  {
   "cell_type": "markdown",
   "id": "9ae29a22",
   "metadata": {
    "id": "9ae29a22"
   },
   "source": [
    "### 🔍 Parte 1: Introdução"
   ]
  },
  {
   "cell_type": "markdown",
   "id": "250b161c",
   "metadata": {
    "id": "250b161c"
   },
   "source": [
    "❓ O que é um Loop?\n",
    "\n",
    "Um loop (laço de repetição) é uma estrutura que repete um bloco de código várias vezes.\n",
    "\n",
    "\n",
    "Evita repetição manual de comandos (imagina ter que escrever print(\"Olá\") 100 vezes… 😅).\n"
   ]
  },
  {
   "cell_type": "markdown",
   "id": "43df3f33",
   "metadata": {
    "id": "43df3f33"
   },
   "source": [
    "### 🔄 Loop for vs. while\n",
    "\n",
    "\n"
   ]
  },
  {
   "cell_type": "markdown",
   "id": "76f99305",
   "metadata": {
    "id": "76f99305"
   },
   "source": [
    "![image.png](data:image/png;base64,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)"
   ]
  },
  {
   "cell_type": "markdown",
   "id": "f0277608",
   "metadata": {
    "id": "f0277608"
   },
   "source": [
    "### 📌 Hoje focaremos apenas no for!"
   ]
  },
  {
   "cell_type": "markdown",
   "id": "d7bd5f38",
   "metadata": {
    "id": "d7bd5f38"
   },
   "source": [
    "📚 Sintaxe Básica do for\n",
    "\n",
    "\n",
    "![image.png](data:image/png;base64,iVBORw0KGgoAAAANSUhEUgAAAgYAAABVCAYAAAAyuizQAAAAAXNSR0IArs4c6QAAAARnQU1BAACxjwv8YQUAAAAJcEhZcwAADsMAAA7DAcdvqGQAABdiSURBVHhe7d1rcBTXnffxb89Nd2l0FxICAZIACVlcBDLCwnbsuJwYr5MY4q16wlYe9CSVbPwUqVygvGX28VZirwlbKUNc2NnEkFh2LcY4iRwRJ3ZszMWAhJANBgl0AQGS0HVmkDSai2a6nxeS2mjQjBABDPj/eafu09PnNFOcX59zelpxOp0aQgghhBCAIXCDEEIIIb64JBgIIYQQQifBQAghhBA6CQZCCCGE0EkwEEIIIYROgoEQQgghdBIMhBBCCKGTYCCEEEIInQQDIYQQQugkGAghhBBCdx2DQQ0vPVVB++hfW9dTMfqHEEIIIW4L1zEYCCGEEOJ2pwR/iVI7FU9VkPE4bN58EID0xzeycWoFq6sXU/6vRcPFal5idXU8JYd2M1KKlRs3kvGn9bSlZ7HrreGtJWvL+X7R6OeuZ1fr8OHpj29k49fSob2C9X+Ckgu7hvdNXcnG/3yM9OFiQgghhLgJJhgxOMjm6sWUl5dTXr6WrLc2U5H+GCsvHKFmpERNdQsrv/bPfL98LSVTV7KxfCOPpQO0s6t95NiNK2l5a3iaoWbreg4Wbxz7maNTDocOwv8tp7y8nLWZu6gYPYkQQgghbooJgkEJa0dHBihi8dJ22tvTWVzcwpEagBqOXChh8bi39ems/NrIsemLKclkuPyhElZ9bfSAIh57HNpHg8HSVSOhAoqWlIxsFEIIIcTNMkEwGF/6khJaqmug5ggtxYtluF8IIYS4Q0wQDA6OjAwA7RW8eaiExUUjIwAXjvBSdQslSyYTC4pYvPQgb/5Jf3aBircgfTIfIYQQQogbZoJgUALVq1m9ejWr1x+kZOP3GZ4cGJ5OOMhnQ/9QxOLMXaxfHfoxxaJ/XUvWW+uHP3P1Zlg7uiZBCCGEEJ+3iZ9K+M/RMDBWzdbVHFky+qSBEEIIIe4EE4wYjKPmJVavXs1m1kooEEIIIe4wIUYMhBBCCPFFM/kRAyGEEELcsSQYCCGEEEInwUAIIYQQOgkGQgghhNBJMBBCCCGEToKBEEIIIXQSDIQQQgihk2AghBBCCJ0EAyGEEELoJBgIIYQQQifBQAghhBA6xev1yrsShBBCCAEyYiCEEEKIy0kwEEIIIYROgoEQQgghdBIMhBBCCKGTYCCEEEIInQQDIYQQQugkGAghhBBCJ8FACCGEEDoJBkIIIYTQSTAQQgghhE6CgRBCCCF0V/WuhIFz/djrHJgijKTcnYox3BhY5AtNVVUuXbqEpmkYjUZiY2NRFCWw2B3J5/Ph8/kIDw8P3CWEEOI2NOGIQcf+i3z05AF8Lh9+r4rqVwOL3NIqKip49dVXAzcD0NLSwtNPP01nZ2fgrkkZHBzkj3/8I1u3bmXTpk243e7AIiHV/kcNLX88G7j5lud0OvnVr37Fhg0baGhoCNx9zbZu3cr7778fuFkIIcRNMOGIQf3LdQDM/V5e4K7bgtfrxe/3ExERMWa73++nsbGRtLQ0rFbrmH3XqqGhgTfeeIOf/OQnV5wvlCHnEAaj4bYbiXG5XACYzWYGBweJiYm5LiMlLpcLo9GIxWIJ3BWUy+Wiru4UeXlzJnXthRBCjGXcsGHDM4EbARynHOz7Px/SdbAT27FemnY0MdjqJK10CmjQ/kEbB36wn4btp1GHVBIKElGMw53Cic2f4mx1cuSpKupeOklyUQoRqcH/s+7t7eWFF14gPz+fiIgIvF4vL774IjExMaSkpFBTU8Pzzz/Pzp07aW5uprCwUO80amtr2bdvH++88w5btmxB0zTy8/Opra3l6aefZvfu3YSFhZGbm6ufr6enhxdeeIHKykoOHTpETk4OCQkJE9ajtbWV5557jt///vc0NTVRUFBAWFjYmHacPHmSkpISzGazvj2YptcbOfTjQzTvaCYuN47oaTEAuHtcHN90DNvxXqrXVdH2fhvJRclY4ibuKGtqanjuueeuuFY+n48//OEPbNq0id27d5OSkkJGRgaKomCz2di8eTO/+c1vOH78OHv37qWwsBC3283mzZv161FbW8uf//xnFi1aBEBdXR2bNm1ix44duN1u8vPzMRqNVFZWUldXx/bt23nttdfQNI2cnBwMBgMul4tt27bx4osvsmfPHtLT00lLSwOgsrKSjRs38pe//IWsrCymTJkypl3BvgMA586d59//37PMmZ1LevpnxwkhhJicoFMJ1jlWHvrTw+T8Sy45/5LLI++tYP6/LQDAdsJG/X/Xsfy39/Hw7q/S13iJMzub9WOdbU7a/t5G6X/fyyN/fxTrnNB35AkJCVitVo4fPw5AW1sbDoeDrKwsHA4H7777Lk899RTbtm0jKSmJyspK/ViPx8Pf/vY3Hn74YV5//XUee+wxABYuXMgrr7zCQw89hNPp1MsDvP3225SWlrJt2zbKysooLy/H5XKFrEdfXx8vv/wy3/rWt3j11VfJyspi586dYz53srL/Vw6PvLeCpAVJ+N2XTdGo0PtJLylLU1nx4T+R/kAGDb87ffmh47Lb7bz55pv6tUpLS2P//v0A7N27l/Pnz/PrX/+an//857z99tu0traiaRo7duxgxowZ/O53v+OJJ56gt7cXTdPQNE1fO8HIte7v7wegvb2dHTt2sG7dOrZv387AwAAffPABjEwxNDc387Of/Yxf/vKXVFVV0d7eDsBrr71GTEwM27Zt48c//jFvvvkmdrsdgBUrVvDKK6+Ql5eHx+MZaRUTfgcAsrNnseN/tlNUNPwdFUIIcW2CBoNQuqq7mHJvOlEZURjDjUx7dDrdNd2ovs86txkrZxKRGoHBYsBgDn0aRVG47777OHz4MF6vl+rqaubPn09UVBRWq5W1a9fS2NjIyy+/TGNjI62trWOOz8/Pp6CgAJPJNOYOPphvf/vbJCQkUF5ezjvvvEN3dzculytkPc6dO8fAwACdnZ0cOHAATdO4cOGCPpx+vZljzMRMjwEFojOjGRoYCixyhfDwcKKioti1axcNDQ2sWrWKhx9+GJ/PR1VVFVarlaqqKhoaGvD7/bS2tuJ2u+nt7WXBggUoikJKSgpRUVGBH32F+vp6VFXlzJkzHDp0iKioKE6ePKnvnzp1KhaLhcjISKKjo3G73bhcLjo6OigqKsJgMJCZmcm6deuIiRkeKQnmar4DwKSmHoQQQowvdI8dhDakohg+m0s2hhnBr6H5Qi5XCCk7OxuDwcDp06dpbm6muLgYRu6Cn332WTRN44knnuDee+8NPHRSNE3jt7/9LVVVVTz00EM8/vjjREdH6/uD1WM0ABiNw+sA0tPT+frXv35VUwY3S0REBE8//TRf+cpXOHjwID/4wQ+oqanB5/PhdrvH1HXFihX69IqiKHq7rpbD4RjzJEJOTg6PPPLImDITURSF2NhYTCZT4K4xrvd3QAghRHDXFAwSChPpru7C2+cFDTr2dxAzK/YfWjxnsVhYsmQJO3fuJCUlhdTUVABsNhsGg4GFCxcSHx+PzWYLPHRSPB4PFy9epLi4mNTUVIaGhsbc9Qerx7Rp0zCbzcycOZPS0lKKiopISkqasFO7mc6dO8eWLVvIzMxkzZo1rF69mgMHDhAeHk5OTg4+n49ly5ZRWlrKjBkziIyMxGw2Y7FYaGlpgZEANDQ0PDphMBgwGo36sP7oNALA3Llz8Xq9FBQUUFpaSkFBAUlJSfr+8YSHh5OYmMiFCxcA6OvrY8uWLfT29gYWHeNqvgMul4ujRz++YSM4QgjxRXFNwSC5KJmkhcn87Z/+SuWX3mbgwgC5/3t2YLFJKywsxOl0UlJSoq9unz59OmlpaTz55JN85zvf4dixY/j9fn3eO5ja2lrKysqoqKigoqKCsrIyKisrCQ8P58EHH2TTpk2UlZWxfft2NE1DVT+bBhmvHmlpaaxatYpnnnmGsrIy1q5dq8/R2+121q9fz7PPPsvx48d58sknef755yd8bLHp9UZ2f7mSi3vaqf2PGnZ/uZKOAxcDi121jIwMYmNj+d73vkdZWRlvvPEGjz76KADf+MY36OrqoqysjLKyMl5//XWGhoYwmUysWrWKXbt2sWbNGn7xi1/onWtcXBzz589n3bp1fPe732Xfvn369Zg7dy4lJSX86Ec/oqysjA0bNkzYwSuKwje/+U3effdd1qxZww9/+EPmzp1LQkICjCw+LCsro7q6mq1bt1JWVkZtbe1VfQfa2tp59rn/4uTJU5edUQghxGRN+LhiKOqQChoYLNeULybF5/NhMBgwGK7PuVRVRVXVSd/xa5qGy+UiIiLiujyadyOoqsrQ0NC46y28Xi+MMx+vaRoej4fBwUE2bdrET3/6U73DHhoaQlGUca+Vqqq43W4iIyMDd4Xk8Xgwm82T+vec6Dvg9XqvaJcQQojJGf9/2KtkMBtuSigAMJlMQTuEa2EwGMbt6CaiKAqRkZG3bChgpG3jhQJGAsF4naeiKEF/vdBsNge9VgaDYdKhACAsLGzS/54TfQfGa5cQQojJ+YdGDMSdR1VV+vv7iYmJCdkJCyGEuDNJMBBCCCGETm4JhRBCCKGTYCCEEEIInQQDIYQQQugkGAghhBBCJ8FACCGEELo7Phh4PF5sdgc2u4OBgbFvWfy8aJpGf/8APp8vcNdNdavU43bg8Xhvme+PEELcSMYNGzY8E7jx89be3sGnJ+qIio6i+sjHpKUmB/2BHYBPT9Szf/9h6uobOH26kUGXiylpqSiKQkNDEw2NzZw61cTQkI+M9LTAw286x6U+9u0/RHJyEpGREYG7r5v+/gH27TuIoihYrXFX/CjTePXweLy8/8E+fD4fSUmJY8rfzlwuNx6PZ9wfQbqaNtfUfMzFi51MmzY1cJcQQtxRbrkRA03TaGw+S3r6FM6fu4DVGhv0F/lG9XT3kj0ri5WPP8rixQs5f76VC63tAOTlzWZZSTGRkeEkJQ3/xO/nrbfHhtlkIuaytzreCHbHJZYUL2LmzOlXhAKC1MNiMbOsZAm5ObPGlL3dHT5cQ1PTmcDNcBVt9vn8XOrrI/EW+f4IIcSNdEv9wNGxYyfo7OpmYMBJdHQUAwNOrHFxLFmykOjoqMDiAAwMOPlw70fcdVc+0zIz6OjoouboJyxbVky8NQ6Azs5ujtR8TGnpUuJiY2DkF/5qPz7O+fOtqH6V6dMzKSqaj6IouN1uDh2uoadn+K1+8+bNYXZuNozchVcfqcVuc2A0GVm0sHDCu0hN0zj+aR2NjcMdU0REONa4WJYtK0bTNE6cqKep+Sx+n39MPUKx2x1UH6mlr68fk8lM8ZKFpI+MhnR19VBz9BOczkHCw8NYunQxSYkJIetx9ux5PvnkOH5VIy4ulvvuLdFf02y3O6iqruXSpT6io6MwGgwUFS0gKSkh6LkmUlV9FJ/PT3//AA7HJWbPzmbB/IKg18PvV9l/4BB+vx+How9FUVi08C6ysqbBSB2P1h7Dbr80ph519Q3U1Z0e856FObOzmTdv7lW3OSoqEr/fz7JlxSQlXnubhRDidnBLTSVER0dhszuYMiWViIgIIiMjKCycR3R0VNCOsqfHxoXWNkwmE2fPnufMmRZyc2cxNWOKXub8+Vacg4Pkzc1FURQ0TaOq6ihe7xAPPrCcpKRE6k81khBvxWg0smfPflJTU7j/vntQFIXm5rNkZmbg9Xo58NFhpk2byvLlJbjdHlpazpOVNT3kzwefPHmKC+dbeeBLy5k1M4szZ1rInJZBUlIih6uOYnc4ePCB5aSlpXLqdCPxVmvQIATQ02vjo4+qmDMnh3uW3U1/Xz+tre3MnJlFV3cPR2o+ZsH8AoqXLKSzs5uunl6ypmeGrEd8fBxz5+YOBw2jUe9wXS43+/cfIj1jCl+6v5SBASd9/QPMnZOLzW4Peq5QPB4vJ06ewufzU1y8iPmF+aSmJmMwGIJeDw2NhtPNTM+aRuk9d9PfP0D7xU5mzcrSr0dubjbLSpbQ02ujs6ubrOmZJCcnYrXGYbM7+PKD9zJ//jxSUpIBrrrNzoFBBgdd/1CbhRDidhG8N/sc+Hw+PG4PWVnTcDguMSNrOrGxMUFDAUBXVzdGoxGL2UxERDhDQ0NjXqEM0N1rIz4+Xv+cixc7sdnsFN6Vj8lkIjY2BovFjMfrpaXlPCazmfy8OSiKQk7OTJYvLyE8PIy6+gYiIiL00QOrNQ5N0xgaGhpzvsu5XG4utLZTWDiPmJho/KqKwWAgKSmRzs5uOjo6iYuLpaGhmbb2iyHbOupMcwvx8VZmzcwCoLBwHnffXQTAyROnmJKWSnp6GoqiEJ9gZcjjDVmPUeMNmTc3n8VsMXNXQR6KouD1erHGxRIWZgl6ron0DwygqipFi+YTb43TX9IU6np0d/VgMhmZkTUNg8FAzGXBqb6+AYvFzKBzkBMn6q9YTGmz2bFYzERFXfmyp2BtDo8Iv65tFkKI28UtEQxUVeWDD/bz7nt76LXZ+etf36e7u5ejI8O1odjtl8icmk5BQR4LF9xFQmICDvslfb/L5WbQ6RyzvsBud2C2WIgdmVaw2eygaSQmxNPR0UVKciImkxFG3ugXExONoijY7Q6SEhPGdFbR0dFERARfA2G3O1BVFevItMbl8/q9vTaMRiPhI29CNBmN5ObMIjExPuBTPuPxeLHZ7ExJS9W3hYVZiI6OwuVy43K7SRg5XtM0urt7SE5ODFmPUf0DA3i9Q2PCQnd3L8lJiSiKMqYTDXWuifT09GKxmImLix2zPdT1sDsuERXz2bXusdmJj7ficrnp7+vX/y0BEuKtzJ2To/99eRsCBWtzQrz1urZZCCFuF7dEMDAYDCxbtoTk5CQeeGA5aWkplCxdzFe/+uVx7/JGDQw4cQ4OkjAyv9vR0cUlxyUyMzP0Mn19/fj9KgkJYztb1e/H5/Pj8/k43dDElPQ0fS7Z6x0eAejrH+C9v39IZ2e3ftzo6EBXdw+dXd3kZM/U943H5/ejaRqqqqJpGu3tHcTERBMWNrw63mg0kps7i4KCPFJTU0ibkhryCQxVVfH7/Xo9Oju7ee+9D/VH6TRNwzc0fMfc0nIBl8vNjJlZE9aDIGHB7/ejqsPLUHp6enG7PXonGuxcE+ntsREXG6uHr8uNdz1AobdnuLMGaGvroL+vnxkzhof+NU0j3mqloCCP3NxZJCTEkzxSx9HOPOay4HC5m9VmIYS4Xdwyiw/r6xvotdnJnjWDU6caueeeu8ftOC7X3t7BRwerUQAUhbAwCwsX3EVGxhQam85w/Hid3pGaTCYyMqaw9O4ibHYHBw4cxuPxYjAYyJyaTlHRfAwGAy0t56k5egwAo9FAfv4cfbX6qVONfHqiHkVRMJmMFBbOY8bIvHQwLpebD/bsx+kcxGIxo6oaeXm5zJmdg9M5yIcfHsA56MJgMBAbG83SuxcTExP6aYVPT9RTX9+AwWDAYjFTtGi+vvDwSM0nnD17DoPBQHh4GEsWLyQlJSlkPT7++FOaz7SgqiqqqmIymfQFeidPnuJk3SmMRhMGg4GwMAsPfGk5YWGWoOcKxePxsmfPfrKzZ5KdPWPMvmDXQ9U09n74EX7Vj98/PAVStOizRZ/D1+M0BoMRo0EhNzebvLzZ+h3/3n0f0dNjw2QyUTBvLrm5s666zSaTkTCLhfvvL73mNgshxO3klgkGnweXy014eNgVQ8yapuF2e8adIlBVFa/XO+EjlIGCnQvA7XZjsVhCLmAMFKoePp8PTdP0FfaXC1WPQJqm6Svv/X6V6uqjhEeEs7hogV4m1LmuVeD1aGo6S1PTGe6/vxRVVcetf6jrwSTbzQTtCrVPCCFud1/oYCBCa2u7SFV1LdHRUfh8PixmM/fcUxy0871RjtR8wqDLxb2lSwN3CSGEuM4kGIiQPB4vzsFBLGZzyEcob6SBASdms3nMegghhBA3hgQDIYQQQuiuflJbCCGEEHc8CQZCCCGE0EkwEEIIIYROgoEQQgghdBIMhBBCCKGTYCCEEEIInQQDIYQQQugkGAghhBBCJ8FACCGEELr/D/cNkfRxboD+AAAAAElFTkSuQmCC)"
   ]
  },
  {
   "cell_type": "markdown",
   "id": "b166bd54",
   "metadata": {
    "id": "b166bd54"
   },
   "source": [
    "### 🛠️ Parte 2: Mão na Massa! Exemplos Detalhados"
   ]
  },
  {
   "cell_type": "markdown",
   "id": "56f698fc",
   "metadata": {
    "id": "56f698fc"
   },
   "source": [
    "🔢 Exemplo 1: Contagem com range()"
   ]
  },
  {
   "cell_type": "code",
   "execution_count": 2,
   "id": "e3935ff2",
   "metadata": {},
   "outputs": [
    {
     "name": "stdout",
     "output_type": "stream",
     "text": [
      "0\n",
      "1\n",
      "2\n",
      "3\n",
      "4\n"
     ]
    }
   ],
   "source": [
    "for n in range(5):\n",
    "    print(n)\n"
   ]
  },
  {
   "cell_type": "code",
   "execution_count": null,
   "id": "2e97ee32",
   "metadata": {
    "id": "2e97ee32",
    "outputId": "343459b6-eb7e-449d-a262-0df513e5ea94"
   },
   "outputs": [],
   "source": [
    "\n",
    "\n"
   ]
  },
  {
   "cell_type": "markdown",
   "id": "6a181cc7",
   "metadata": {
    "id": "6a181cc7"
   },
   "source": [
    "💡 Explicação: range(5) gera números de 0 a 4. Se quiser começar em 1, use range(1, 5)."
   ]
  },
  {
   "cell_type": "markdown",
   "id": "f1abe89f",
   "metadata": {
    "id": "f1abe89f"
   },
   "source": [
    "🍎 Exemplo 2: Iterando em uma Lista"
   ]
  },
  {
   "cell_type": "code",
   "execution_count": null,
   "id": "e7fb975f",
   "metadata": {},
   "outputs": [],
   "source": [
    "# Escreva seu código aqui!"
   ]
  },
  {
   "cell_type": "code",
   "execution_count": null,
   "id": "bcad3f09",
   "metadata": {
    "id": "bcad3f09",
    "outputId": "52ee0cc9-4ef9-46af-b6bd-c4ee0b5f1933"
   },
   "outputs": [],
   "source": [
    "# NÃO USAR ESSA CÉLULA DE CÓDIGO"
   ]
  },
  {
   "cell_type": "markdown",
   "id": "6081ce87",
   "metadata": {
    "id": "6081ce87"
   },
   "source": [
    "🎲 Exemplo 3: range() com Passo Personalizado"
   ]
  },
  {
   "cell_type": "code",
   "execution_count": null,
   "id": "09019b2c",
   "metadata": {},
   "outputs": [],
   "source": [
    "# Escreva seu código aqui!"
   ]
  },
  {
   "cell_type": "code",
   "execution_count": null,
   "id": "0358f0d6",
   "metadata": {
    "id": "0358f0d6",
    "outputId": "a03f2c8b-a8aa-4bb0-da87-00da665ae047"
   },
   "outputs": [],
   "source": [
    "# NÃO USAR ESSA CÉLULA DE CÓDIGO"
   ]
  },
  {
   "cell_type": "markdown",
   "id": "ec537dde",
   "metadata": {
    "id": "ec537dde"
   },
   "source": [
    "### 📋 Parte 3: Exercícios Práticos"
   ]
  },
  {
   "cell_type": "markdown",
   "id": "c5611192",
   "metadata": {
    "id": "c5611192"
   },
   "source": [
    "🔢 Exercício 1: Números Ímpares\n",
    "\n",
    "Instrução: Use for para imprimir todos os números ímpares de 1 a 15.\n",
    "\n"
   ]
  },
  {
   "cell_type": "code",
   "execution_count": null,
   "id": "89f122f7",
   "metadata": {},
   "outputs": [],
   "source": [
    "# Escreva seu código aqui!"
   ]
  },
  {
   "cell_type": "code",
   "execution_count": null,
   "id": "2bf72be1",
   "metadata": {
    "id": "2bf72be1",
    "outputId": "7a56bf80-0d89-4bde-e5ec-bc38832ef9c9"
   },
   "outputs": [],
   "source": [
    "# NÃO USAR ESSA CÉLULA DE CÓDIGO\n"
   ]
  },
  {
   "cell_type": "markdown",
   "id": "484b40fe",
   "metadata": {
    "id": "484b40fe"
   },
   "source": [
    "➕ Exercício 2: Soma Acumulativa\n",
    "\n",
    "\n",
    "Instrução: Peça um número inteiro ao usuário e calcule a soma de todos os números de 1 até até o número inteiro que o usuário digitar."
   ]
  },
  {
   "cell_type": "code",
   "execution_count": null,
   "id": "a71c169b",
   "metadata": {},
   "outputs": [],
   "source": [
    "# Escreva seu código aqui!"
   ]
  },
  {
   "cell_type": "code",
   "execution_count": null,
   "id": "6901698d",
   "metadata": {
    "id": "6901698d",
    "outputId": "f699bbcd-0971-4322-9908-a913fa43ad42"
   },
   "outputs": [],
   "source": [
    "# NÃO USAR ESSA CÉLULA DE CÓDIGO"
   ]
  },
  {
   "cell_type": "markdown",
   "id": "cf8b93b0",
   "metadata": {
    "id": "cf8b93b0"
   },
   "source": [
    "✖️ Exercício 3: Tabuada Interativa\n",
    "Instrução: Peça um número e mostre sua tabuada de 0 a 10,\n",
    "\n",
    "formatada como:\n",
    "\n",
    "5 x 1 = 5  \n",
    "5 x 2 = 10  \n",
    "...  "
   ]
  },
  {
   "cell_type": "code",
   "execution_count": null,
   "id": "f735953c",
   "metadata": {},
   "outputs": [],
   "source": [
    "# Escreva seu código aqui!"
   ]
  },
  {
   "cell_type": "code",
   "execution_count": null,
   "id": "48a45af5",
   "metadata": {
    "id": "48a45af5",
    "outputId": "caab11a4-17e7-4344-b73e-333fe1a3ae87"
   },
   "outputs": [],
   "source": [
    "# NÃO USAR ESSA CÉLULA DE CÓDIGO"
   ]
  },
  {
   "cell_type": "markdown",
   "id": "250b6f6f",
   "metadata": {
    "id": "250b6f6f"
   },
   "source": [
    "🔙 Exercício 4: Contagem Regressiva Espacial 🚀\n",
    "\n",
    "\n",
    "Instrução: Faça uma contagem regressiva de 10 até 0, imprimindo:"
   ]
  },
  {
   "cell_type": "code",
   "execution_count": null,
   "id": "84cee1d9",
   "metadata": {},
   "outputs": [],
   "source": [
    "# Escreva seu código aqui!"
   ]
  },
  {
   "cell_type": "code",
   "execution_count": null,
   "id": "b36c82a6",
   "metadata": {
    "id": "b36c82a6",
    "outputId": "1cc6c977-bb14-43e0-b32a-1f7d66d4e030"
   },
   "outputs": [],
   "source": [
    "# NÃO USAR ESSA CÉLULA DE CÓDIGO"
   ]
  },
  {
   "cell_type": "markdown",
   "id": "5161203d",
   "metadata": {
    "id": "5161203d"
   },
   "source": [
    "### 🏆 Parte 4: Desafios Avançados"
   ]
  },
  {
   "cell_type": "markdown",
   "id": "b71b0625",
   "metadata": {
    "id": "b71b0625"
   },
   "source": [
    "💼 Desafio 1: Calculadora de Bônus para Funcionários\n",
    "\n",
    "Contexto: Os alunos são gestores de uma empresa e precisam calcular o bônus anual dos funcionários com base em suas vendas."
   ]
  },
  {
   "cell_type": "markdown",
   "id": "ca8a4efb",
   "metadata": {
    "id": "ca8a4efb"
   },
   "source": [
    "**📌 Instruções:**\n",
    "\n",
    "Crie uma lista com os nomes dos funcionários.\n",
    "\n",
    "Crie outra lista com o valor total de vendas de cada um (em R$).\n",
    "\n",
    "\n",
    "\n",
    "Use um loop for para calcular o bônus:\n",
    "\n",
    "Se vendas > R$ 50.000: Bônus de 15%.\n",
    "\n",
    "\n",
    "Se vendas > R$ 30.000: Bônus de 10%.\n",
    "\n",
    "\n",
    "Caso contrário: Bônus de 5%.\n",
    "\n",
    "\n",
    "Imprima uma mensagem personalizada para cada funcionário, como:\n",
    "\n",
    "\n",
    "[Maria] Vendas: R$ 60.000 | Bônus: R$ 9.000 (15%)  "
   ]
  },
  {
   "cell_type": "code",
   "execution_count": null,
   "id": "87d106cd",
   "metadata": {},
   "outputs": [],
   "source": [
    "# Escreva seu código aqui!"
   ]
  },
  {
   "cell_type": "code",
   "execution_count": null,
   "id": "9f31e2bd",
   "metadata": {
    "id": "9f31e2bd",
    "outputId": "63f4db37-d4d9-4b2f-94b9-835def87c4a9"
   },
   "outputs": [],
   "source": [
    "# NÃO USAR ESSA CÉLULA DE CÓDIGO"
   ]
  }
 ],
 "metadata": {
  "colab": {
   "provenance": []
  },
  "kernelspec": {
   "display_name": "Python 3",
   "language": "python",
   "name": "python3"
  },
  "language_info": {
   "codemirror_mode": {
    "name": "ipython",
    "version": 3
   },
   "file_extension": ".py",
   "mimetype": "text/x-python",
   "name": "python",
   "nbconvert_exporter": "python",
   "pygments_lexer": "ipython3",
   "version": "3.13.2"
  }
 },
 "nbformat": 4,
 "nbformat_minor": 5
}
