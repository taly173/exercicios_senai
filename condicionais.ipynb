{
 "cells": [
  {
   "cell_type": "markdown",
   "id": "961da8b3",
   "metadata": {},
   "source": [
    "# CONDICIONAIS"
   ]
  },
  {
   "cell_type": "markdown",
   "id": "b3aba163",
   "metadata": {},
   "source": [
    "## Expressões lógicas e valores lógicos (bool)"
   ]
  },
  {
   "cell_type": "markdown",
   "id": "021e03e7",
   "metadata": {},
   "source": [
    "- As expressões lógicas servem para \"comparar valores\" e geram um resultado que será um valor lógico\n",
    "- Valores lógicos são \"Verdadeiro\" ou \"Falso\" (True/False)"
   ]
  },
  {
   "cell_type": "markdown",
   "id": "29656141",
   "metadata": {},
   "source": [
    "OPERADORES LÓGICOS\n",
    "\n",
    "- IGUAL             | ==\n",
    "- DIFERENTE         | !=\n",
    "- MAIOR QUE         | >\n",
    "- MENOR QUE         | <\n",
    "- MAIOR OU IGUAL À  | >=\n",
    "- MENOR OU IGUAL À  | <="
   ]
  },
  {
   "cell_type": "code",
   "execution_count": 62,
   "id": "96532fda",
   "metadata": {},
   "outputs": [],
   "source": [
    "a = 2\n",
    "b = 5"
   ]
  },
  {
   "cell_type": "markdown",
   "id": "888e188f",
   "metadata": {},
   "source": [
    "EXPRESSÕES LÓGICAS"
   ]
  },
  {
   "cell_type": "code",
   "execution_count": 68,
   "id": "8c4a44d9",
   "metadata": {},
   "outputs": [
    {
     "data": {
      "text/plain": [
       "True"
      ]
     },
     "execution_count": 68,
     "metadata": {},
     "output_type": "execute_result"
    }
   ],
   "source": [
    "# IGUAL ==     DIFERENTE !=\n",
    "a <= b "
   ]
  },
  {
   "cell_type": "code",
   "execution_count": 69,
   "id": "aaa1ddcd",
   "metadata": {},
   "outputs": [
    {
     "data": {
      "text/plain": [
       "True"
      ]
     },
     "execution_count": 69,
     "metadata": {},
     "output_type": "execute_result"
    }
   ],
   "source": [
    "# Maior que >\n",
    "b > a"
   ]
  },
  {
   "cell_type": "code",
   "execution_count": 70,
   "id": "2ff384bb",
   "metadata": {},
   "outputs": [
    {
     "data": {
      "text/plain": [
       "False"
      ]
     },
     "execution_count": 70,
     "metadata": {},
     "output_type": "execute_result"
    }
   ],
   "source": [
    "# Menor que <\n",
    "b < a"
   ]
  },
  {
   "cell_type": "code",
   "execution_count": 71,
   "id": "428ed762",
   "metadata": {},
   "outputs": [
    {
     "data": {
      "text/plain": [
       "False"
      ]
     },
     "execution_count": 71,
     "metadata": {},
     "output_type": "execute_result"
    }
   ],
   "source": [
    "idade = 5\n",
    "idade >= 18"
   ]
  },
  {
   "cell_type": "markdown",
   "id": "a7db424b",
   "metadata": {},
   "source": [
    "CUIDADO AO COMPARAR VALORES DE TIPOS DIFERENTES. POR EXEMPLO STRING COM NÚMEROS"
   ]
  },
  {
   "cell_type": "code",
   "execution_count": 74,
   "id": "d1341016",
   "metadata": {},
   "outputs": [
    {
     "data": {
      "text/plain": [
       "False"
      ]
     },
     "execution_count": 74,
     "metadata": {},
     "output_type": "execute_result"
    }
   ],
   "source": [
    "num1 = '18'\n",
    "num2 = 18\n",
    "num1 == num2"
   ]
  },
  {
   "cell_type": "code",
   "execution_count": 72,
   "id": "c7d3a6d1",
   "metadata": {},
   "outputs": [
    {
     "data": {
      "text/plain": [
       "False"
      ]
     },
     "execution_count": 72,
     "metadata": {},
     "output_type": "execute_result"
    }
   ],
   "source": [
    "'18' == 18"
   ]
  },
  {
   "cell_type": "code",
   "execution_count": 75,
   "id": "0469102e",
   "metadata": {},
   "outputs": [
    {
     "data": {
      "text/plain": [
       "'1818'"
      ]
     },
     "execution_count": 75,
     "metadata": {},
     "output_type": "execute_result"
    }
   ],
   "source": [
    "num1 + num1"
   ]
  },
  {
   "cell_type": "code",
   "execution_count": 76,
   "id": "5425b09e",
   "metadata": {},
   "outputs": [
    {
     "data": {
      "text/plain": [
       "36"
      ]
     },
     "execution_count": 76,
     "metadata": {},
     "output_type": "execute_result"
    }
   ],
   "source": [
    "num2 + num2 "
   ]
  },
  {
   "cell_type": "code",
   "execution_count": 77,
   "id": "47345251",
   "metadata": {},
   "outputs": [
    {
     "data": {
      "text/plain": [
       "str"
      ]
     },
     "execution_count": 77,
     "metadata": {},
     "output_type": "execute_result"
    }
   ],
   "source": [
    "type(num1)"
   ]
  },
  {
   "cell_type": "code",
   "execution_count": 78,
   "id": "57ee7067",
   "metadata": {},
   "outputs": [
    {
     "data": {
      "text/plain": [
       "int"
      ]
     },
     "execution_count": 78,
     "metadata": {},
     "output_type": "execute_result"
    }
   ],
   "source": [
    "type(num2)"
   ]
  },
  {
   "cell_type": "markdown",
   "id": "c1e8c244",
   "metadata": {},
   "source": [
    "## Condições Simples"
   ]
  },
  {
   "cell_type": "markdown",
   "id": "4113085d",
   "metadata": {},
   "source": [
    "Para condições em Python utilizamos a palvra *if* que siginifa 'se' em Português.<br>\n",
    "Com a condição, você consegue executar um conjunto de códigos APENAS se o resultado da expressão lógica for 'Verdadeiro' (True)\n",
    "- if (expressão lógica):\n"
   ]
  },
  {
   "cell_type": "code",
   "execution_count": null,
   "id": "9d47fb4f",
   "metadata": {},
   "outputs": [],
   "source": [
    "idade = int(input('Qual é a sua idade?'))\n",
    "if idade >= 18:\n",
    "    print('Maior de idade')"
   ]
  },
  {
   "cell_type": "markdown",
   "id": "ede5b8e5",
   "metadata": {},
   "source": [
    "Caso a condição *if* não seja 'VERDADEIRA' ela não irá rodar os códigos relacionados a ela.<br>\n",
    "Neste caso, o python não saberá o que fazer, a menos que você coloque uma condição final *else*, que signica em Português \"Senão\" ou \"Caso contrário."
   ]
  },
  {
   "cell_type": "code",
   "execution_count": 82,
   "id": "92329848",
   "metadata": {},
   "outputs": [
    {
     "name": "stdout",
     "output_type": "stream",
     "text": [
      "Maior de idade\n"
     ]
    }
   ],
   "source": [
    "idade = int(input('Qual é a sua idade?'))\n",
    "if idade >= 18:\n",
    "    print('Maior de idade')\n",
    "else:\n",
    "    print('Menor de idade')"
   ]
  },
  {
   "cell_type": "markdown",
   "id": "3b7db6c2",
   "metadata": {},
   "source": [
    "No código acima, a mensagem \"Maior de idade\" será exibida na tela APENAS SE idade foir maior ou igual a 18. CASO CONTRÁRIO, a mensagem \"Menor de idade\" aparecerá."
   ]
  },
  {
   "cell_type": "markdown",
   "id": "5810c386",
   "metadata": {},
   "source": [
    "## Mais de uma condição:"
   ]
  },
  {
   "cell_type": "markdown",
   "id": "1d1d122c",
   "metadata": {},
   "source": [
    "if = Se isso acontecer, faça isso.\n",
    "\n",
    "elif = Senão, se acontecer outra coisa, faça aquilo.\n",
    "\n",
    "else = Senão, faça isso aqui."
   ]
  },
  {
   "cell_type": "code",
   "execution_count": 87,
   "id": "9b5ceec4",
   "metadata": {},
   "outputs": [
    {
     "name": "stdout",
     "output_type": "stream",
     "text": [
      "Menor de idade\n"
     ]
    }
   ],
   "source": [
    "idade = int(input('Qual é a sua idade?'))\n",
    "if idade >= 19:\n",
    "    print('Maior de idade')\n",
    "elif idade == 18:\n",
    "    print('Parabéns você acabou de atingir a maior idade. Já pode ser preso.')\n",
    "else:\n",
    "    print('Menor de idade')"
   ]
  },
  {
   "cell_type": "markdown",
   "id": "18b3ea73",
   "metadata": {},
   "source": [
    "## Condições Aninhadas"
   ]
  },
  {
   "cell_type": "markdown",
   "id": "07e178d0",
   "metadata": {},
   "source": [
    "https://pbs.twimg.com/media/Cw7ti4sXUAEzVXU.jpg"
   ]
  },
  {
   "cell_type": "code",
   "execution_count": null,
   "id": "c914c63f",
   "metadata": {},
   "outputs": [],
   "source": [
    "idade = int(input('Qual é a sua idade?'))\n",
    "\n",
    "if idade >= 18:\n",
    "\n",
    "    cnh = int(input('Você tem habilitação? (1 para sim/ 2 para não)'))\n",
    "    if cnh == 1:\n",
    "        print('Pode dirigir')\n",
    "    else:\n",
    "        print('Não pode dirigir')\n",
    "\n",
    "else:\n",
    "    print('Não pode dirigir')"
   ]
  }
 ],
 "metadata": {
  "kernelspec": {
   "display_name": "Python 3",
   "language": "python",
   "name": "python3"
  },
  "language_info": {
   "codemirror_mode": {
    "name": "ipython",
    "version": 3
   },
   "file_extension": ".py",
   "mimetype": "text/x-python",
   "name": "python",
   "nbconvert_exporter": "python",
   "pygments_lexer": "ipython3",
   "version": "3.13.2"
  }
 },
 "nbformat": 4,
 "nbformat_minor": 5
}
